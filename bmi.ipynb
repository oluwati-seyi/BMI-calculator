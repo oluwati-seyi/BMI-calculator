{
 "cells": [
  {
   "cell_type": "code",
   "execution_count": 3,
   "metadata": {},
   "outputs": [
    {
     "ename": "ValueError",
     "evalue": "invalid literal for int() with base 10: ''",
     "output_type": "error",
     "traceback": [
      "\u001b[1;31m---------------------------------------------------------------------------\u001b[0m",
      "\u001b[1;31mValueError\u001b[0m                                Traceback (most recent call last)",
      "\u001b[1;32mc:\\Users\\HP PC\\Desktop\\BMI calculator\\bmi.ipynb Cell 1'\u001b[0m in \u001b[0;36m<cell line: 1>\u001b[1;34m()\u001b[0m\n\u001b[1;32m----> <a href='vscode-notebook-cell:/c%3A/Users/HP%20PC/Desktop/BMI%20calculator/bmi.ipynb#ch0000000?line=0'>1</a>\u001b[0m weight \u001b[39m=\u001b[39m \u001b[39mint\u001b[39;49m(\u001b[39minput\u001b[39;49m(\u001b[39m'\u001b[39;49m\u001b[39mweight in kg\u001b[39;49m\u001b[39m'\u001b[39;49m));\n\u001b[0;32m      <a href='vscode-notebook-cell:/c%3A/Users/HP%20PC/Desktop/BMI%20calculator/bmi.ipynb#ch0000000?line=1'>2</a>\u001b[0m height \u001b[39m=\u001b[39m \u001b[39mfloat\u001b[39m(\u001b[39minput\u001b[39m(\u001b[39m'\u001b[39m\u001b[39mheight in meters\u001b[39m\u001b[39m'\u001b[39m));\n\u001b[0;32m      <a href='vscode-notebook-cell:/c%3A/Users/HP%20PC/Desktop/BMI%20calculator/bmi.ipynb#ch0000000?line=2'>3</a>\u001b[0m x \u001b[39m=\u001b[39m weight\u001b[39m/\u001b[39m\u001b[39mfloat\u001b[39m(height\u001b[39m*\u001b[39mheight);\n",
      "\u001b[1;31mValueError\u001b[0m: invalid literal for int() with base 10: ''"
     ]
    }
   ],
   "source": [
    "weight = int(input('weight in kg'));\n",
    "height = float(input('height in meters'));\n",
    "x = weight/float(height*height);\n",
    "if x < 18.5:\n",
    "    print('Underweight')\n",
    "if x>=18.5 and x<25:\n",
    "    print(\"Normal\")\n",
    "if x >= 25 and x < 30:\n",
    "   print('Overweight')\n",
    "if x >= 30:\n",
    "   print('Obesity')"
   ]
  }
 ],
 "metadata": {
  "kernelspec": {
   "display_name": "Python 3.10.5 64-bit",
   "language": "python",
   "name": "python3"
  },
  "language_info": {
   "codemirror_mode": {
    "name": "ipython",
    "version": 3
   },
   "file_extension": ".py",
   "mimetype": "text/x-python",
   "name": "python",
   "nbconvert_exporter": "python",
   "pygments_lexer": "ipython3",
   "version": "3.10.5"
  },
  "orig_nbformat": 4,
  "vscode": {
   "interpreter": {
    "hash": "18b69126694678a7fcd0ce434fbbf1cba6f69dea5e329ed235d912bbeb095a08"
   }
  }
 },
 "nbformat": 4,
 "nbformat_minor": 2
}
